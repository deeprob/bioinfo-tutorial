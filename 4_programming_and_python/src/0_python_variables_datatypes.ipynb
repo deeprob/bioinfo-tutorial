{
 "cells": [
  {
   "cell_type": "markdown",
   "id": "7677c1dd",
   "metadata": {},
   "source": [
    "# Variables and Data Types in Python"
   ]
  },
  {
   "cell_type": "markdown",
   "id": "96d6a689",
   "metadata": {},
   "source": [
    "## What are variables in Python?\n",
    "In Python, when an object is assigned to a variable, the value of that object is stored in that variable.\n",
    "\n",
    "To create a variable in Python, type\n",
    "\n",
    "```python3\n",
    "{variable_name} = {object}\n",
    "```\n",
    "\n",
    "For example, to assign the object/value 30 to the variable n, type"
   ]
  },
  {
   "cell_type": "code",
   "execution_count": 3,
   "id": "41feb49c",
   "metadata": {},
   "outputs": [],
   "source": [
    "n = 30"
   ]
  },
  {
   "cell_type": "markdown",
   "id": "dfb1825a",
   "metadata": {},
   "source": [
    "The value 30 is now stored in the variable n. To confirm this, we can type"
   ]
  },
  {
   "cell_type": "code",
   "execution_count": 4,
   "id": "1a4a55b5",
   "metadata": {},
   "outputs": [
    {
     "name": "stdout",
     "output_type": "stream",
     "text": [
      "30\n"
     ]
    }
   ],
   "source": [
    "print(n)"
   ]
  },
  {
   "cell_type": "markdown",
   "id": "c2e76fd5",
   "metadata": {},
   "source": [
    "Since the value 30 is assigned to the variable n, printing n outputs the value 30. "
   ]
  },
  {
   "cell_type": "markdown",
   "id": "5c96aeca",
   "metadata": {},
   "source": [
    "## Why do we need variables?\n",
    "Variables are useful tools as they allow the user to create programs that can be used with a variety of datasets. Rather than creating a program with values assigned to a single dataset, variables can be utilized so that users can enter different data values into a single program. This allows for greater flexibility in programming. "
   ]
  },
  {
   "cell_type": "markdown",
   "id": "cce86c76",
   "metadata": {},
   "source": [
    "## What are data types?\n",
    "When an object is assigned to a variable, the variable is given a specific *data type* that corresponds to the object. To view the data type of a variable, type\n",
    "\n",
    "```python3 \n",
    "type({variable_name})\n",
    "```\n",
    "\n",
    "4 basic data types are integer (int), float, string (str), and boolean (bool). "
   ]
  },
  {
   "cell_type": "markdown",
   "id": "eee92766",
   "metadata": {},
   "source": [
    "### Integer (Int)\n",
    "The *int* data type refers to numerical objects that are integers. For example, we earlier defined the variable n as 30. Since 30 is an integer, the data type of n is *int*. We can confirm this by typing"
   ]
  },
  {
   "cell_type": "code",
   "execution_count": 5,
   "id": "4307461a",
   "metadata": {
    "scrolled": true
   },
   "outputs": [
    {
     "data": {
      "text/plain": [
       "int"
      ]
     },
     "execution_count": 5,
     "metadata": {},
     "output_type": "execute_result"
    }
   ],
   "source": [
    "type(n)"
   ]
  },
  {
   "cell_type": "markdown",
   "id": "fc936b0f",
   "metadata": {},
   "source": [
    "As we expected, the output is int. "
   ]
  },
  {
   "cell_type": "markdown",
   "id": "60dffc21",
   "metadata": {},
   "source": [
    "### Float\n",
    "The *float* data type is assigned to numerical objects that have a decimal point. For example, let's define a new variable *var*. "
   ]
  },
  {
   "cell_type": "code",
   "execution_count": 8,
   "id": "5ee54063",
   "metadata": {},
   "outputs": [],
   "source": [
    "var = 3.14"
   ]
  },
  {
   "cell_type": "markdown",
   "id": "2f4a8075",
   "metadata": {},
   "source": [
    "Since 3.14 has a decimal place, we should expect the data type of var to be float. We can check this by typing"
   ]
  },
  {
   "cell_type": "code",
   "execution_count": 7,
   "id": "75339f9f",
   "metadata": {
    "scrolled": true
   },
   "outputs": [
    {
     "data": {
      "text/plain": [
       "float"
      ]
     },
     "execution_count": 7,
     "metadata": {},
     "output_type": "execute_result"
    }
   ],
   "source": [
    "type(var)"
   ]
  },
  {
   "cell_type": "markdown",
   "id": "7bfca903",
   "metadata": {},
   "source": [
    "As expected, checking the data type of *var* returned the output *float*. "
   ]
  },
  {
   "cell_type": "markdown",
   "id": "66091c27",
   "metadata": {},
   "source": [
    "### String (Str)\n",
    "A *string* in Python refers to objects that consist of a sequence of characters, digits, and/or symbols. Strings are denoted by single quotes (i.e. '{string}'). For example, let's define a new variable *my_var*. "
   ]
  },
  {
   "cell_type": "code",
   "execution_count": 9,
   "id": "8080765a",
   "metadata": {},
   "outputs": [],
   "source": [
    "my_var = 'This variable is a string.'"
   ]
  },
  {
   "cell_type": "markdown",
   "id": "5a4c2bad",
   "metadata": {},
   "source": [
    "Since the object of my_var is a string of characters, we should expect the data type of my_var to be string (str). We can check this by typing"
   ]
  },
  {
   "cell_type": "code",
   "execution_count": 10,
   "id": "c8ab3d4b",
   "metadata": {},
   "outputs": [
    {
     "data": {
      "text/plain": [
       "str"
      ]
     },
     "execution_count": 10,
     "metadata": {},
     "output_type": "execute_result"
    }
   ],
   "source": [
    "type(my_var)"
   ]
  },
  {
   "cell_type": "markdown",
   "id": "a9be339a",
   "metadata": {},
   "source": [
    "As expected, the output is str. "
   ]
  },
  {
   "cell_type": "markdown",
   "id": "d141d49e",
   "metadata": {},
   "source": [
    "### Boolean\n",
    "The boolean (bool) data type refers to two conditional values, *True* and *False*. These values are often used when testing variables within a program.\n",
    "\n",
    "To show that True and False are boolean data types, we can type"
   ]
  },
  {
   "cell_type": "code",
   "execution_count": 20,
   "id": "eabed7ea",
   "metadata": {},
   "outputs": [
    {
     "data": {
      "text/plain": [
       "bool"
      ]
     },
     "execution_count": 20,
     "metadata": {},
     "output_type": "execute_result"
    }
   ],
   "source": [
    "type(True)"
   ]
  },
  {
   "cell_type": "code",
   "execution_count": 21,
   "id": "a806fdb9",
   "metadata": {},
   "outputs": [
    {
     "data": {
      "text/plain": [
       "bool"
      ]
     },
     "execution_count": 21,
     "metadata": {},
     "output_type": "execute_result"
    }
   ],
   "source": [
    "type(False)"
   ]
  },
  {
   "cell_type": "markdown",
   "id": "5f70b4e9",
   "metadata": {},
   "source": [
    "**NOTE** that True and False are not entered with quotes. This would change their data type to str. "
   ]
  },
  {
   "cell_type": "markdown",
   "id": "c507f6d5",
   "metadata": {},
   "source": [
    "## Why do data types exist?\n",
    "Data types give the operating system information on how to interpret the value of an object. For example, when the object 3.14 is assigned to a variable, it is interpreted as a numerical value (specifically a float). However, when the object '3.14' is assigned to a variable, it is interpreted as a string of text. To illustrate this concept, let's define a new variable new_var"
   ]
  },
  {
   "cell_type": "code",
   "execution_count": 14,
   "id": "ec1b37ed",
   "metadata": {},
   "outputs": [],
   "source": [
    "new_var = '3.14'"
   ]
  },
  {
   "cell_type": "markdown",
   "id": "00e5f666",
   "metadata": {},
   "source": [
    "When we add 2.0 to our previously defined float variable *var*, the two numerical values are added together. "
   ]
  },
  {
   "cell_type": "code",
   "execution_count": 16,
   "id": "67e60932",
   "metadata": {},
   "outputs": [
    {
     "data": {
      "text/plain": [
       "5.140000000000001"
      ]
     },
     "execution_count": 16,
     "metadata": {},
     "output_type": "execute_result"
    }
   ],
   "source": [
    "var + 2.0"
   ]
  },
  {
   "cell_type": "markdown",
   "id": "d7b4191b",
   "metadata": {},
   "source": [
    "However, when we try to add 2.0 to new_var, an error is output. "
   ]
  },
  {
   "cell_type": "code",
   "execution_count": 17,
   "id": "8ede8b66",
   "metadata": {},
   "outputs": [
    {
     "ename": "TypeError",
     "evalue": "can only concatenate str (not \"float\") to str",
     "output_type": "error",
     "traceback": [
      "\u001b[0;31m---------------------------------------------------------------------------\u001b[0m",
      "\u001b[0;31mTypeError\u001b[0m                                 Traceback (most recent call last)",
      "Cell \u001b[0;32mIn[17], line 1\u001b[0m\n\u001b[0;32m----> 1\u001b[0m \u001b[43mnew_var\u001b[49m\u001b[43m \u001b[49m\u001b[38;5;241;43m+\u001b[39;49m\u001b[43m \u001b[49m\u001b[38;5;241;43m2.0\u001b[39;49m\n",
      "\u001b[0;31mTypeError\u001b[0m: can only concatenate str (not \"float\") to str"
     ]
    }
   ],
   "source": [
    "new_var + 2.0"
   ]
  },
  {
   "cell_type": "markdown",
   "id": "7d31bdfc",
   "metadata": {},
   "source": [
    "Since new_var is defined as a string, '3.14' is not treated as a numerical value, but instead as a string of text. As a result, 5.14 is not produced as the output when 2.0 is added to new_var. A string cannot be numerically added to an int or float value. "
   ]
  },
  {
   "cell_type": "markdown",
   "id": "fc20f98c",
   "metadata": {},
   "source": [
    "## Converting between data types\n",
    "At times, programs will only take in certain data types as input. For example, if a program requires you to enter a variable as an integer, but the value you are trying to enter is a float (ex. 2.3456), you will need to convert that variable to an integer before entering it into the program so that it will run properly. \n",
    "\n",
    "To convert between data types, simply type\n",
    "\n",
    "```python3\n",
    "{new_data_type}({variable})\n",
    "```\n",
    "\n",
    "For example, to convert our float variable *var* to an int variable, we can type"
   ]
  },
  {
   "cell_type": "code",
   "execution_count": 18,
   "id": "4c182311",
   "metadata": {},
   "outputs": [
    {
     "data": {
      "text/plain": [
       "3"
      ]
     },
     "execution_count": 18,
     "metadata": {},
     "output_type": "execute_result"
    }
   ],
   "source": [
    "int(var)"
   ]
  },
  {
   "cell_type": "markdown",
   "id": "59bef71a",
   "metadata": {},
   "source": [
    "As a result *var* is interpreted as the integer (int) value 3. *NOTE* that this does not *permanently* redefine *var* as an integer value. *var* is still assigned to the float 3.14. "
   ]
  }
 ],
 "metadata": {
  "kernelspec": {
   "display_name": "Python 3 (ipykernel)",
   "language": "python",
   "name": "python3"
  },
  "language_info": {
   "codemirror_mode": {
    "name": "ipython",
    "version": 3
   },
   "file_extension": ".py",
   "mimetype": "text/x-python",
   "name": "python",
   "nbconvert_exporter": "python",
   "pygments_lexer": "ipython3",
   "version": "3.9.15"
  },
  "vscode": {
   "interpreter": {
    "hash": "f0ee875a9866897ef514e4c171cd141be3db5afbddd773636b3d5dc520a7ef71"
   }
  }
 },
 "nbformat": 4,
 "nbformat_minor": 5
}
