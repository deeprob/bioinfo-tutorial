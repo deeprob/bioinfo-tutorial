{
 "cells": [
  {
   "cell_type": "markdown",
   "metadata": {},
   "source": [
    "# Python Data Structures"
   ]
  },
  {
   "cell_type": "markdown",
   "metadata": {},
   "source": [
    "## What are data structures?\n",
    "Data structures are formats that data can be organized in so that it can be efficiently processed, retrieved, and stored by the user. \n",
    "\n",
    "There are two main classifications of data structures - *linear* and *nonlinear*.\n",
    "\n",
    "### Linear vs Non-linear Data Structures\n",
    "Data elements in linear data structures are arranged sequentially, while those in non-linear structures are not. \n",
    "\n",
    "Moreover, three of the data structures outlined in this module are known as *arrays* (lists, tuples, and dicts) - this is because each item in these data structures is assigned a specific *index value*. "
   ]
  },
  {
   "cell_type": "markdown",
   "metadata": {},
   "source": [
    "## Why do we need data structures?\n",
    "Data structures can store data in specific formats so that they can then be used with algorithms. Algorithms can then process that data to produce a meaningful result. Organizing data in data structures also facilitates the manipulation of large datasets.  "
   ]
  },
  {
   "cell_type": "markdown",
   "metadata": {},
   "source": [
    "## What is a list? Why do we need it?\n",
    "Lists allow users to store multiple items within a single variable. Lists are arranged sequentially (linearly) and are mutable. They are denoted by brackets ([]) and are created using the format\n",
    "\n",
    "```python\n",
    "{list_name} = [item1, item2, item3, ...]\n",
    "```\n",
    "\n",
    "Each item in a list is assigned a specific index. For example, the first item in a list is assigned an index of 0, the second item has an index of 1, and so on. Moreover, lists can include items of any data type (float, string, etc.), and can include duplicate items. \n",
    "\n",
    "Since lists are linear, the order of items in a list will not change. When new items are added to the list, they will be added to the end of the list. \n",
    "\n",
    "An example list including the items 'a','b','c', and 'd' is shown below. "
   ]
  },
  {
   "cell_type": "code",
   "execution_count": 19,
   "metadata": {},
   "outputs": [],
   "source": [
    "my_list = ['a','b','c','d']"
   ]
  },
  {
   "cell_type": "markdown",
   "metadata": {},
   "source": [
    "### Viewing an item in a list using its index value\n",
    "To view a specific item in a list, type\n",
    "\n",
    "```python\n",
    "{list_name}[item_index_value]\n",
    "```\n",
    "\n",
    "For example, the command below views the first item in my_list (the item assigned to index value 0)."
   ]
  },
  {
   "cell_type": "code",
   "execution_count": 5,
   "metadata": {},
   "outputs": [
    {
     "data": {
      "text/plain": [
       "'a'"
      ]
     },
     "execution_count": 5,
     "metadata": {},
     "output_type": "execute_result"
    }
   ],
   "source": [
    "my_list[0]"
   ]
  },
  {
   "cell_type": "markdown",
   "metadata": {},
   "source": [
    "### Changing an item in a list\n",
    "To change an item in a list, type\n",
    "\n",
    "```python\n",
    "{list_name}[item_index_value] = {new_item}\n",
    "```\n",
    "\n",
    "For example, using the command below, 'a' will be changed to 'd' by assigning a new item to the index value 0 in my_list. "
   ]
  },
  {
   "cell_type": "code",
   "execution_count": 6,
   "metadata": {},
   "outputs": [],
   "source": [
    "my_list[0] = 'd'"
   ]
  },
  {
   "cell_type": "code",
   "execution_count": 7,
   "metadata": {
    "scrolled": false
   },
   "outputs": [
    {
     "data": {
      "text/plain": [
       "['d', 'b', 'c', 'd']"
      ]
     },
     "execution_count": 7,
     "metadata": {},
     "output_type": "execute_result"
    }
   ],
   "source": [
    "my_list"
   ]
  },
  {
   "cell_type": "markdown",
   "metadata": {},
   "source": [
    "### Viewing multiple items in a cell\n",
    "Items assigned to index values m through n can be viewed by typing\n",
    "\n",
    "```python\n",
    "{list_name}[m:n+1]\n",
    "```\n",
    "\n",
    "For example, the command below displays the items assigned to index values 0 through 2 in my_list (items 1-3). \n",
    "*Notice how item 1 remains 'd' since we changed it using the previous command*"
   ]
  },
  {
   "cell_type": "code",
   "execution_count": 10,
   "metadata": {},
   "outputs": [
    {
     "data": {
      "text/plain": [
       "['d', 'b', 'c']"
      ]
     },
     "execution_count": 10,
     "metadata": {},
     "output_type": "execute_result"
    }
   ],
   "source": [
    "my_list[0:3]"
   ]
  },
  {
   "cell_type": "markdown",
   "metadata": {},
   "source": [
    "## What is a tuple? Why do we need it?\n",
    "Tuples are almost exactly the same as lists; however, they are immutable - i.e., the items in a tuple cannot be changed. Tuples are denoted by parentheses () and are created using the format\n",
    "\n",
    "```bash\n",
    "{tuple_name} = (item1, item2, item3, ...)\n",
    "```\n",
    "\n",
    "An example tuple including the items 'a','b','c', and 'd' is shown below. "
   ]
  },
  {
   "cell_type": "code",
   "execution_count": 4,
   "metadata": {},
   "outputs": [],
   "source": [
    "my_tuple = ('a','b','c','d')"
   ]
  },
  {
   "cell_type": "markdown",
   "metadata": {},
   "source": [
    "### A tuple is immutable, so attempting to change an item will result in an error message."
   ]
  },
  {
   "cell_type": "code",
   "execution_count": 8,
   "metadata": {},
   "outputs": [
    {
     "ename": "TypeError",
     "evalue": "'tuple' object does not support item assignment",
     "output_type": "error",
     "traceback": [
      "\u001b[0;31m---------------------------------------------------------------------------\u001b[0m",
      "\u001b[0;31mTypeError\u001b[0m                                 Traceback (most recent call last)",
      "Input \u001b[0;32mIn [8]\u001b[0m, in \u001b[0;36m<cell line: 1>\u001b[0;34m()\u001b[0m\n\u001b[0;32m----> 1\u001b[0m my_tuple[\u001b[38;5;241m0\u001b[39m] \u001b[38;5;241m=\u001b[39m \u001b[38;5;124m'\u001b[39m\u001b[38;5;124md\u001b[39m\u001b[38;5;124m'\u001b[39m\n",
      "\u001b[0;31mTypeError\u001b[0m: 'tuple' object does not support item assignment"
     ]
    }
   ],
   "source": [
    "my_tuple[0] = 'd'"
   ]
  },
  {
   "cell_type": "markdown",
   "metadata": {},
   "source": [
    "## What is a set? Why do we need it?\n",
    "The items in a set are unordered, immutable, and unindexed (therefore sets are not arrays). Set items can arrange in any given order when they are used - they are not sequential. \n",
    "\n",
    "While items in a set cannot directly be changed, they *can* be removed and replaced with a new item.\n",
    "\n",
    "Sets are denoted by curly brackets {} and are created using the format\n",
    "\n",
    "```python\n",
    "{set_name} = {item1, item2, item3, ...}\n",
    "```\n",
    "\n",
    "An example set including the items 'a','b','c', and 'd' is shown below. "
   ]
  },
  {
   "cell_type": "code",
   "execution_count": 11,
   "metadata": {},
   "outputs": [],
   "source": [
    "my_set = {'d','b','c','d'}"
   ]
  },
  {
   "cell_type": "markdown",
   "metadata": {},
   "source": [
    "### Duplicate items in sets\n",
    "Duplicate items will not be shown when viewing a set. Only one copy of the item will be entered into the set. \n",
    "\n",
    "For example, even though 'd' was entered twice into my_set, viewing my_set displays only one copy of 'd'. "
   ]
  },
  {
   "cell_type": "code",
   "execution_count": 12,
   "metadata": {},
   "outputs": [
    {
     "data": {
      "text/plain": [
       "{'b', 'c', 'd'}"
      ]
     },
     "execution_count": 12,
     "metadata": {},
     "output_type": "execute_result"
    }
   ],
   "source": [
    "my_set"
   ]
  },
  {
   "cell_type": "markdown",
   "metadata": {},
   "source": [
    "### Converting between data structures\n",
    "A list can be converted into a set by typing\n",
    "\n",
    "```python\n",
    "{set_name} = set(list_name)\n",
    "```"
   ]
  },
  {
   "cell_type": "code",
   "execution_count": 13,
   "metadata": {},
   "outputs": [],
   "source": [
    "my_set = set(my_list)"
   ]
  },
  {
   "cell_type": "code",
   "execution_count": 14,
   "metadata": {
    "scrolled": true
   },
   "outputs": [
    {
     "data": {
      "text/plain": [
       "{'b', 'c', 'd'}"
      ]
     },
     "execution_count": 14,
     "metadata": {},
     "output_type": "execute_result"
    }
   ],
   "source": [
    "my_set"
   ]
  },
  {
   "cell_type": "markdown",
   "metadata": {},
   "source": [
    "## What is a dictionary (dict)? Why do we need it?\n",
    "Dictionaries are ordered, changeable, and do not display duplicates. They are primarily used to assign key:value pairs - each pair maps a key to its associated value. In this way, dictionaries are useful as they provide quick access to values by using their associated keys. \n",
    "\n",
    "Dictionaries are denoted by curly brackets, and are created by typing\n",
    "\n",
    "```python\n",
    "{dict_name} = {key1:value1, key2:value2, ...}\n",
    "```\n",
    "\n",
    "For example, the following script assigns patient numbers (the value) to ID numbers (the key) using a dictionary. "
   ]
  },
  {
   "cell_type": "code",
   "execution_count": 3,
   "metadata": {},
   "outputs": [],
   "source": [
    "my_dict = {'id01':'patient1','id02':'patient2'}"
   ]
  },
  {
   "cell_type": "markdown",
   "metadata": {},
   "source": [
    "Viewing my_dict will display"
   ]
  },
  {
   "cell_type": "code",
   "execution_count": 4,
   "metadata": {},
   "outputs": [
    {
     "data": {
      "text/plain": [
       "{'id01': 'patient1', 'id02': 'patient2'}"
      ]
     },
     "execution_count": 4,
     "metadata": {},
     "output_type": "execute_result"
    }
   ],
   "source": [
    "my_dict"
   ]
  },
  {
   "cell_type": "markdown",
   "metadata": {},
   "source": [
    "Calling a key will display the associated value. For example..."
   ]
  },
  {
   "cell_type": "code",
   "execution_count": 7,
   "metadata": {},
   "outputs": [
    {
     "data": {
      "text/plain": [
       "'patient1'"
      ]
     },
     "execution_count": 7,
     "metadata": {},
     "output_type": "execute_result"
    }
   ],
   "source": [
    "my_dict['id01']"
   ]
  },
  {
   "cell_type": "markdown",
   "metadata": {},
   "source": [
    "calling the key 'id01' displays 'patient1'. Similar to sets, dictionaries do not allow duplicate keys. "
   ]
  }
 ],
 "metadata": {
  "kernelspec": {
   "display_name": "Python 3 (ipykernel)",
   "language": "python",
   "name": "python3"
  },
  "language_info": {
   "codemirror_mode": {
    "name": "ipython",
    "version": 3
   },
   "file_extension": ".py",
   "mimetype": "text/x-python",
   "name": "python",
   "nbconvert_exporter": "python",
   "pygments_lexer": "ipython3",
   "version": "3.9.15"
  },
  "vscode": {
   "interpreter": {
    "hash": "f0ee875a9866897ef514e4c171cd141be3db5afbddd773636b3d5dc520a7ef71"
   }
  }
 },
 "nbformat": 4,
 "nbformat_minor": 2
}
