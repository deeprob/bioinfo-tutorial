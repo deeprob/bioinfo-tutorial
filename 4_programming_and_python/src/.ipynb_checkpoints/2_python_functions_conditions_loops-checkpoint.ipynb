{
 "cells": [
  {
   "cell_type": "markdown",
   "id": "ddc04cf8",
   "metadata": {},
   "source": [
    "# Python Functions, Conditions, and Loops"
   ]
  },
  {
   "cell_type": "markdown",
   "id": "e2bf9370",
   "metadata": {},
   "source": [
    "## What are functions? Why do we use them?\n",
    "Functions are blocks of code that perform a specific task/set of tasks. The user must call a function in order for it to run.\n",
    "\n",
    "Functions are useful as they allow the user to perform repeated tasks without having to enter the same code in a program multiple times. In other words, functions compartmentalize parts of code so that they can be easily accessed when they are needed. \n",
    "\n",
    "[DataCamp](https://www.w3schools.com/python/python_functions.asp#:~:text=A%20function%20is%20a%20block,return%20data%20as%20a%20result.)\n",
    "\n",
    "To define a function in Python, follow this basic format. \n",
    "\n",
    "```python3\n",
    "def {function_name}():\n",
    "    # Function body\n",
    "```\n",
    "\n",
    "To call this function, type\n",
    "\n",
    "```python3\n",
    "{function_name}()\n",
    "```"
   ]
  },
  {
   "cell_type": "markdown",
   "id": "dfb3e366",
   "metadata": {},
   "source": [
    "For example, let's create a function that takes in two values, assigns them to variables *x* and *y*, and adds them together. The sum of these two numbers is defined as variable *z*."
   ]
  },
  {
   "cell_type": "code",
   "execution_count": 1,
   "id": "4f43455b",
   "metadata": {},
   "outputs": [],
   "source": [
    "def add_2_numbers(x,y):\n",
    "    z = x + y\n",
    "    return z"
   ]
  },
  {
   "cell_type": "markdown",
   "id": "50edf19b",
   "metadata": {},
   "source": [
    "**Note**: The *return* command used at the end of this function is used to output the value *z* when the function is called. Without the return command, the function will not display the sum of the two numbers. \n",
    "\n",
    "Now, let's call the function and input x = 1 and y = 2. "
   ]
  },
  {
   "cell_type": "code",
   "execution_count": 2,
   "id": "601271cc",
   "metadata": {
    "scrolled": true
   },
   "outputs": [
    {
     "data": {
      "text/plain": [
       "3"
      ]
     },
     "execution_count": 2,
     "metadata": {},
     "output_type": "execute_result"
    }
   ],
   "source": [
    "add_2_numbers(1,2)"
   ]
  },
  {
   "cell_type": "markdown",
   "id": "a3fc28c7",
   "metadata": {},
   "source": [
    "The function adds the values 1 and 2 and outputs the sum, 3. "
   ]
  },
  {
   "cell_type": "markdown",
   "id": "24db67a0",
   "metadata": {},
   "source": [
    "Within this function, we can also define y as 10 while leaving x as a variable that takes in an input value. "
   ]
  },
  {
   "cell_type": "code",
   "execution_count": 3,
   "id": "3dafa1c3",
   "metadata": {},
   "outputs": [],
   "source": [
    "def add_2_numbers(x,y=10):\n",
    "    z = x + y\n",
    "    return z"
   ]
  },
  {
   "cell_type": "markdown",
   "id": "2c40d886",
   "metadata": {},
   "source": [
    "Defining the variable x = 2, the function then produces the output"
   ]
  },
  {
   "cell_type": "code",
   "execution_count": 4,
   "id": "b6c94654",
   "metadata": {},
   "outputs": [
    {
     "data": {
      "text/plain": [
       "12"
      ]
     },
     "execution_count": 4,
     "metadata": {},
     "output_type": "execute_result"
    }
   ],
   "source": [
    "add_2_numbers(2)"
   ]
  },
  {
   "cell_type": "markdown",
   "id": "fc9ada29",
   "metadata": {},
   "source": [
    "2 is added to 10, so the output is 12. "
   ]
  },
  {
   "cell_type": "markdown",
   "id": "00c104a5",
   "metadata": {},
   "source": [
    "## What are conditions? Why do we use them?\n",
    "Conditions are used to evaluate variables/datasets that are entered into a program. In Python, the boolean variables *True* and *False* (discussed in section 0 of this module) are outputs that are used to evaluate variables. \n",
    "\n",
    "Conditional statements can take on the format\n",
    "\n",
    "```python3\n",
    "def {function_name}():\n",
    "    if {condition}:\n",
    "        # Enter output here\n",
    "    else:\n",
    "        # Enter alternate output here\n",
    "```\n",
    "\n",
    "For example, let's create a function check_variable that takes in a value *x* and checks whether its value is less than 12. "
   ]
  },
  {
   "cell_type": "code",
   "execution_count": 2,
   "id": "d01a7e21",
   "metadata": {},
   "outputs": [],
   "source": [
    "def check_variable(x):\n",
    "    if x < 12:\n",
    "        print('variable less than 12')\n",
    "        return True \n",
    "    else:\n",
    "        print('variable greater than 12')\n",
    "        return False"
   ]
  },
  {
   "cell_type": "markdown",
   "id": "861a2a26",
   "metadata": {},
   "source": [
    "With this function, **if** a value less than 12 is assigned to the variable x, 'variable less than 12' will be displayed and the boolean value True will be output as well. **Else**, 'variable greater than 12' and the boolean value False will be output (i.e. if the number is greater than 12). For example, let's enter the number 2 into the function. "
   ]
  },
  {
   "cell_type": "code",
   "execution_count": 10,
   "id": "0b8c2516",
   "metadata": {
    "scrolled": true
   },
   "outputs": [
    {
     "name": "stdout",
     "output_type": "stream",
     "text": [
      "variable less than 12\n"
     ]
    },
    {
     "data": {
      "text/plain": [
       "True"
      ]
     },
     "execution_count": 10,
     "metadata": {},
     "output_type": "execute_result"
    }
   ],
   "source": [
    "check_variable(2)"
   ]
  },
  {
   "cell_type": "markdown",
   "id": "7aea6572",
   "metadata": {},
   "source": [
    "Since 2 is less than 12, 'variable less than 12' and True were returned. Now, let's enter the value 13."
   ]
  },
  {
   "cell_type": "code",
   "execution_count": 3,
   "id": "1133876d",
   "metadata": {
    "scrolled": true
   },
   "outputs": [
    {
     "name": "stdout",
     "output_type": "stream",
     "text": [
      "variable greater than 12\n"
     ]
    },
    {
     "data": {
      "text/plain": [
       "False"
      ]
     },
     "execution_count": 3,
     "metadata": {},
     "output_type": "execute_result"
    }
   ],
   "source": [
    "check_variable(13)"
   ]
  },
  {
   "cell_type": "markdown",
   "id": "634da688",
   "metadata": {},
   "source": [
    "Since 13 is greater than 12, 'variable greater than 12' and False were returned. "
   ]
  },
  {
   "cell_type": "markdown",
   "id": "a1f286b3",
   "metadata": {},
   "source": [
    "## What are loops? Why do we need them?\n"
   ]
  },
  {
   "cell_type": "markdown",
   "id": "ed050c54",
   "metadata": {},
   "source": [
    "### The *for* loop\n",
    "We can test multiple values within a list or other similar data structure simultaneously by placing a *for* loop within a function. The *for* loop allows a function to iterate over a sequence of values within a list, tuple, set, etc. \n",
    "\n",
    "This is especially useful when testing values within large datasets. Instead of having to input each value individually into the function, we can test them all at once. \n",
    "\n",
    "The general format for a for loop is\n",
    "```python3\n",
    "for i in {list_name}:\n",
    "    {function_name}(i)\n",
    "```\n",
    "\n",
    "here, i refers to the various values within a list. We are calling a function to test each value i within the list (other variables like x, y, etc. can be used in place of i). \n",
    "\n",
    "\n",
    "For example, let's create a list, *variable_list*, with a series of values within it and check if each value is less than or greater than 12 using our function *check_variable*. "
   ]
  },
  {
   "cell_type": "code",
   "execution_count": 4,
   "id": "98e08ff9",
   "metadata": {
    "scrolled": false
   },
   "outputs": [
    {
     "name": "stdout",
     "output_type": "stream",
     "text": [
      "variable less than 12\n",
      "variable less than 12\n",
      "variable less than 12\n",
      "variable less than 12\n",
      "variable less than 12\n",
      "variable less than 12\n",
      "variable greater than 12\n"
     ]
    }
   ],
   "source": [
    "variable_list = [1,2,3,4,5,6,13]\n",
    "for i in variable_list:\n",
    "    check_variable(i)"
   ]
  },
  {
   "cell_type": "markdown",
   "id": "84a60f35",
   "metadata": {},
   "source": [
    "As expected, each value i within the list that was less than 12 caused the function to output 'variable less than 12', while each value that was greater than 12 caused the function to output 'variable greater than 12'. "
   ]
  },
  {
   "cell_type": "markdown",
   "id": "ae0e8c79",
   "metadata": {},
   "source": [
    "## = and == operators\n",
    "The **=** and **==** operators have different functions in python. The = operator simply assigns an operand that is to the right of the = sign to an operand that is to the left of the = sign. \n",
    "\n",
    "On the other hand, the == operator is used to check if the operand to the left of the == sign is equal to the operand to the right of the == sign. If the values are equal, the boolean value True will be returned. If they are not equal, the value False will be returned. For example, let's assign the value 6 to variable val using the = operator. "
   ]
  },
  {
   "cell_type": "code",
   "execution_count": 22,
   "id": "68d9a450",
   "metadata": {},
   "outputs": [],
   "source": [
    "val = 6"
   ]
  },
  {
   "cell_type": "markdown",
   "id": "81204302",
   "metadata": {},
   "source": [
    "Typing val produces"
   ]
  },
  {
   "cell_type": "code",
   "execution_count": 13,
   "id": "1865396c",
   "metadata": {},
   "outputs": [
    {
     "data": {
      "text/plain": [
       "6"
      ]
     },
     "execution_count": 13,
     "metadata": {},
     "output_type": "execute_result"
    }
   ],
   "source": [
    "val"
   ]
  },
  {
   "cell_type": "markdown",
   "id": "3cf2ef1c",
   "metadata": {},
   "source": [
    "Now, let's use the == operator to check if a value is equal to val. Let's check the number 1. "
   ]
  },
  {
   "cell_type": "code",
   "execution_count": 14,
   "id": "2d84800a",
   "metadata": {},
   "outputs": [
    {
     "data": {
      "text/plain": [
       "False"
      ]
     },
     "execution_count": 14,
     "metadata": {},
     "output_type": "execute_result"
    }
   ],
   "source": [
    "val == 1"
   ]
  },
  {
   "cell_type": "markdown",
   "id": "041b40ed",
   "metadata": {},
   "source": [
    "Since val = 6 and 6 does not equal 1, typing val == 1 produces the value False. However, if we redefine val as 1"
   ]
  },
  {
   "cell_type": "code",
   "execution_count": 23,
   "id": "2e906d5e",
   "metadata": {},
   "outputs": [],
   "source": [
    "val = 1"
   ]
  },
  {
   "cell_type": "markdown",
   "id": "220d9812",
   "metadata": {},
   "source": [
    "and then use the == operator to check if 1 is equal to val,"
   ]
  },
  {
   "cell_type": "code",
   "execution_count": 16,
   "id": "800e6a2a",
   "metadata": {},
   "outputs": [
    {
     "data": {
      "text/plain": [
       "True"
      ]
     },
     "execution_count": 16,
     "metadata": {},
     "output_type": "execute_result"
    }
   ],
   "source": [
    "val == 1"
   ]
  },
  {
   "cell_type": "markdown",
   "id": "45eb9b8a",
   "metadata": {},
   "source": [
    "The value True is returned because 1 = 1. "
   ]
  },
  {
   "cell_type": "markdown",
   "id": "57c783aa",
   "metadata": {},
   "source": [
    "## While Loops\n",
    "A while loop can be used within a function to execute statements **while** a certain condition is met. When the specified condition is not met, the statement will not be executed. This is useful for when only certain values within a list, tuple, set, etc. need to be tested. \n",
    "\n",
    "The general format for a while statement is\n",
    "```python3\n",
    "while {condition}:\n",
    "    # Statement\n",
    "```\n",
    "\n",
    "This indicates that while the specified condition is true, the corresponding statement will be executed. If the condition is not met, the statement will not be executed.\n",
    "\n",
    "For example, let's create a function that checks a variable in variable_list until it reaches a variable that is greater than 12 (i.e. until check_variable(variable) becomes False). "
   ]
  },
  {
   "cell_type": "code",
   "execution_count": 3,
   "id": "57b0d910",
   "metadata": {},
   "outputs": [
    {
     "name": "stdout",
     "output_type": "stream",
     "text": [
      "variable less than 12\n",
      "variable less than 12\n",
      "variable less than 12\n",
      "variable less than 12\n",
      "variable less than 12\n",
      "variable less than 12\n",
      "variable greater than 12\n"
     ]
    }
   ],
   "source": [
    "variable_list = [1,2,3,4,5,6,13,20,25]\n",
    "counter = 0\n",
    "variable = variable_list[counter]\n",
    "while check_variable(variable):\n",
    "    counter += 1\n",
    "    variable = variable_list[counter]\n"
   ]
  },
  {
   "cell_type": "code",
   "execution_count": null,
   "id": "b388c53c",
   "metadata": {},
   "outputs": [],
   "source": []
  }
 ],
 "metadata": {
  "kernelspec": {
   "display_name": "Python 3 (ipykernel)",
   "language": "python",
   "name": "python3"
  },
  "language_info": {
   "codemirror_mode": {
    "name": "ipython",
    "version": 3
   },
   "file_extension": ".py",
   "mimetype": "text/x-python",
   "name": "python",
   "nbconvert_exporter": "python",
   "pygments_lexer": "ipython3",
   "version": "3.9.15"
  },
  "vscode": {
   "interpreter": {
    "hash": "aee8b7b246df8f9039afb4144a1f6fd8d2ca17a180786b69acc140d282b71a49"
   }
  }
 },
 "nbformat": 4,
 "nbformat_minor": 5
}
